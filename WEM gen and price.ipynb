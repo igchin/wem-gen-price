{
 "cells": [
  {
   "cell_type": "markdown",
   "metadata": {},
   "source": [
    "# This page plots the generation and Balancing Price for the WEM for each year"
   ]
  },
  {
   "cell_type": "code",
   "execution_count": 153,
   "metadata": {},
   "outputs": [],
   "source": [
    "from wemdata import wemdatafunctions as wem\n",
    "import matplotlib as mpl\n",
    "import matplotlib.pyplot as plt\n",
    "%matplotlib inline\n",
    "\n",
    "from ipywidgets import interact, interactive, fixed,interact_manual\n",
    "\n",
    "import matplotlib.ticker"
   ]
  },
  {
   "cell_type": "code",
   "execution_count": 154,
   "metadata": {},
   "outputs": [],
   "source": [
    "def plot_year(year):\n",
    "    df_balancing_summary = wem.balancing_summary(year)\n",
    "\n",
    "    fig = plt.figure()\n",
    "    ax0= fig.add_subplot(2,1,1)\n",
    "    ax1= fig.add_subplot(2,1,2)\n",
    "    \n",
    "    ax0 = df_balancing_summary.plot(kind='line',x= 'Trading Interval',y='Total Generation (MW)', ax=ax0, figsize=(20,10), color='red')\n",
    "    ax1 = df_balancing_summary.plot(kind='line',x= 'Trading Interval',y='Final Price ($/MWh)',ax=ax1, figsize=(20,10), color='blue')\n",
    "    \n",
    "    ax0.tick_params(axis='both',which='major', labelsize=12, pad=15)\n",
    "    ax0.set_title('Total Generation ' + str(year), fontsize=20)\n",
    "    ax0.set_xlabel('Trading Interval', fontsize=20)\n",
    "    ax0.set_ylabel('Generation (MW)', fontsize=20)\n",
    "    formatter_1 = mpl.ticker.StrMethodFormatter('{x:,.0f}')\n",
    "    ax0.yaxis.set_major_formatter(formatter_1)\n",
    "    ax0.get_legend().remove()\n",
    "\n",
    "    ax1.tick_params(axis='both',which='major', labelsize=12, pad=10)\n",
    "    ax1.set_title('Balancing Price ' + str(year), fontsize=20)\n",
    "    ax1.set_xlabel('Trading Interval', fontsize=20)\n",
    "    ax1.set_ylabel('Balancing Price ($/MWh)', fontsize=20)\n",
    "    formatter_2 = mpl.ticker.StrMethodFormatter('${x:,.0f}')\n",
    "    ax1.yaxis.set_major_formatter(formatter_2)\n",
    "    ax1.get_legend().remove()\n",
    "\n",
    "    fig.tight_layout(pad=3)"
   ]
  },
  {
   "cell_type": "code",
   "execution_count": 155,
   "metadata": {},
   "outputs": [
    {
     "data": {
      "application/vnd.jupyter.widget-view+json": {
       "model_id": "3585ee6ecc9d4dbab214352192dbb89f",
       "version_major": 2,
       "version_minor": 0
      },
      "text/plain": [
       "interactive(children=(Dropdown(description='year', options=(2012, 2013, 2014, 2015, 2016, 2017, 2018, 2019, 20…"
      ]
     },
     "metadata": {},
     "output_type": "display_data"
    },
    {
     "data": {
      "text/plain": [
       "<function __main__.plot_year(year)>"
      ]
     },
     "execution_count": 155,
     "metadata": {},
     "output_type": "execute_result"
    }
   ],
   "source": [
    "years=range(2012,2021)\n",
    "\n",
    "interact(plot_year,year=years)"
   ]
  },
  {
   "cell_type": "code",
   "execution_count": null,
   "metadata": {},
   "outputs": [],
   "source": []
  }
 ],
 "metadata": {
  "hide_input": false,
  "kernelspec": {
   "display_name": "Python 3",
   "language": "python",
   "name": "python3"
  },
  "language_info": {
   "codemirror_mode": {
    "name": "ipython",
    "version": 3
   },
   "file_extension": ".py",
   "mimetype": "text/x-python",
   "name": "python",
   "nbconvert_exporter": "python",
   "pygments_lexer": "ipython3",
   "version": "3.7.7"
  }
 },
 "nbformat": 4,
 "nbformat_minor": 2
}
